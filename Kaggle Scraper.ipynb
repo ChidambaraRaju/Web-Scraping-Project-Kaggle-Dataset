{
 "cells": [
  {
   "cell_type": "markdown",
   "id": "82d7a046",
   "metadata": {},
   "source": [
    "### 1. Importing Libraries"
   ]
  },
  {
   "cell_type": "code",
   "execution_count": 1,
   "id": "0139cd4a",
   "metadata": {},
   "outputs": [],
   "source": [
    "import time as t\n",
    "import numpy as np\n",
    "import requests\n",
    "from bs4 import BeautifulSoup\n",
    "from selenium import webdriver\n",
    "from tqdm import tqdm\n",
    "import pandas as pd"
   ]
  },
  {
   "cell_type": "code",
   "execution_count": 2,
   "id": "ce641745",
   "metadata": {},
   "outputs": [],
   "source": [
    "res = requests.get('https://www.kaggle.com/datasets?page=1')"
   ]
  },
  {
   "cell_type": "code",
   "execution_count": 3,
   "id": "94819e98",
   "metadata": {},
   "outputs": [
    {
     "data": {
      "text/plain": [
       "<Response [200]>"
      ]
     },
     "execution_count": 3,
     "metadata": {},
     "output_type": "execute_result"
    }
   ],
   "source": [
    "res\n",
    "# 200 -> response scraped successfully"
   ]
  },
  {
   "cell_type": "code",
   "execution_count": 4,
   "id": "6f4a141e",
   "metadata": {},
   "outputs": [],
   "source": [
    "driver = webdriver.Chrome()\n",
    "driver.get('https://www.kaggle.com')"
   ]
  },
  {
   "cell_type": "code",
   "execution_count": 5,
   "id": "ba3b42ea",
   "metadata": {},
   "outputs": [],
   "source": [
    "month_dct = {'Jan':1, 'Feb':2, 'Mar':3, 'Apr':4, 'May':5, 'Jun':6, 'Jul':7, 'Aug':8, 'Sep':9, 'Oct':10, 'Nov':11, 'Dec':12}"
   ]
  },
  {
   "cell_type": "markdown",
   "id": "09ebe8f4",
   "metadata": {},
   "source": [
    "### 2. Scraping Data from Kaggle"
   ]
  },
  {
   "cell_type": "code",
   "execution_count": 14,
   "id": "2fad2987",
   "metadata": {
    "scrolled": true
   },
   "outputs": [
    {
     "name": "stderr",
     "output_type": "stream",
     "text": [
      "100%|████████████████████████████████████████████████████████████████████████████████| 500/500 [52:11<00:00,  6.26s/it]\n"
     ]
    }
   ],
   "source": [
    "values = []\n",
    "for page in tqdm(range(1,501)):\n",
    "    link = 'https://www.kaggle.com/datasets?page='+ str(page)\n",
    "    driver.get(link)\n",
    "    t.sleep(2)\n",
    "    soup = BeautifulSoup(driver.page_source, 'html.parser')\n",
    "    sp = soup.find('ul', class_ = 'km-list km-list--three-line')\n",
    "    for data in sp.find_all('li'):\n",
    "        try:\n",
    "            title = data.find('div', class_ = 'sc-bczRLJ sc-fEOsli sc-kIKDeO hWgGcP gYKcfE lowKEm').text\n",
    "        except:\n",
    "            title = np.nan\n",
    "        try:\n",
    "            author_id = \"https://www.kaggle.com\"+data.find('a', class_ = 'sc-jdAMXn sc-bZnhIo bdwTMI hagtLI').get('href').strip()\n",
    "        except:\n",
    "            author_id = np.nan\n",
    "        try:\n",
    "            dataset_link = 'https://www.kaggle.com'+data.find('a').get('href')\n",
    "        except:\n",
    "            dataset_link = np.nan\n",
    "        try:\n",
    "            image_link = data.find('div', class_ = 'sc-dZrFBT kmXhRk').get('style').split('\"')[1].split('?')[0]\n",
    "        except:\n",
    "            image_link = np.nan\n",
    "        try:\n",
    "            author_name = data.find_all('span', class_ = 'sc-llJcti sc-iIPllB sc-dsQDmV dRaCtU piKwW hlxqVX')[0].text.split('·')[0].strip()\n",
    "        except:\n",
    "            author_name = np.nan\n",
    "        try:\n",
    "            date_time = data.find_all('span', class_ = 'sc-llJcti sc-iIPllB sc-dsQDmV dRaCtU piKwW hlxqVX')[0].find('span').get('title')[:-31].strip()\n",
    "            date = date_time.split(\" \")[1:-1]\n",
    "            date[0] = str(month_dct[date[0]])\n",
    "            date =  '/'.join(date)\n",
    "            day = date_time.split(\" \")[0]\n",
    "            time = date_time.split(\" \")[-1]\n",
    "        except:\n",
    "            date_time = np.nan\n",
    "            date = np.nan\n",
    "            day = np.nan\n",
    "            time = np.nan\n",
    "        try:\n",
    "            size = data.find_all('span', class_ = 'sc-llJcti sc-iIPllB sc-dsQDmV dRaCtU piKwW hlxqVX')[1].text.split(\"·\")[2].strip()\n",
    "        except:\n",
    "            size = np.nan\n",
    "        try:\n",
    "            file_info = data.find_all('span', class_ = 'sc-llJcti sc-iIPllB sc-dsQDmV dRaCtU piKwW hlxqVX')[1].text.split(\"·\")[1].strip()\n",
    "            no_of_files = file_info.split(' ')[0]\n",
    "            file_type = file_info.split('(')[-1][:-1]\n",
    "        except:\n",
    "            file_info = np.nan\n",
    "            no_of_files = np.nan \n",
    "            file_type = np.nan\n",
    "        try:\n",
    "            upvotes = data.find('span', mode = 'default').text.strip()\n",
    "        except:\n",
    "            upvotes = np.nan\n",
    "        try:\n",
    "            medals = data.find('span', class_ = 'sc-llJcti sc-iIPllB dRaCtU piKwW').text.strip()\n",
    "        except:\n",
    "            medals = np.nan\n",
    "        try:\n",
    "            usability = data.find_all('span', class_ = 'sc-llJcti sc-iIPllB sc-dsQDmV dRaCtU piKwW hlxqVX')[1].find('span').text[9:].strip()\n",
    "        except:\n",
    "            usability = np.nan\n",
    "        \n",
    "        \n",
    "        values.append([title,author_name, author_id, no_of_files, size, file_type, upvotes, medals, usability, date, day, time, dataset_link, image_link])\n",
    "    t.sleep(2)"
   ]
  },
  {
   "cell_type": "markdown",
   "id": "235fbcaf",
   "metadata": {},
   "source": [
    "### 3. Converting into Dataframe"
   ]
  },
  {
   "cell_type": "code",
   "execution_count": 16,
   "id": "22d5719e",
   "metadata": {},
   "outputs": [
    {
     "data": {
      "text/html": [
       "<div>\n",
       "<style scoped>\n",
       "    .dataframe tbody tr th:only-of-type {\n",
       "        vertical-align: middle;\n",
       "    }\n",
       "\n",
       "    .dataframe tbody tr th {\n",
       "        vertical-align: top;\n",
       "    }\n",
       "\n",
       "    .dataframe thead th {\n",
       "        text-align: right;\n",
       "    }\n",
       "</style>\n",
       "<table border=\"1\" class=\"dataframe\">\n",
       "  <thead>\n",
       "    <tr style=\"text-align: right;\">\n",
       "      <th></th>\n",
       "      <th>Dataset_name</th>\n",
       "      <th>Author_name</th>\n",
       "      <th>Author_id</th>\n",
       "      <th>No_of_files</th>\n",
       "      <th>size</th>\n",
       "      <th>Type_of_file</th>\n",
       "      <th>Upvotes</th>\n",
       "      <th>Medals</th>\n",
       "      <th>Usability</th>\n",
       "      <th>Date</th>\n",
       "      <th>Day</th>\n",
       "      <th>Time</th>\n",
       "      <th>Dataset_link</th>\n",
       "      <th>Image_link</th>\n",
       "    </tr>\n",
       "  </thead>\n",
       "  <tbody>\n",
       "    <tr>\n",
       "      <th>0</th>\n",
       "      <td>Hotel Reservations Dataset</td>\n",
       "      <td>Ahsan Raza</td>\n",
       "      <td>https://www.kaggle.com/ahsan81</td>\n",
       "      <td>1</td>\n",
       "      <td>491 kB</td>\n",
       "      <td>CSV</td>\n",
       "      <td>315</td>\n",
       "      <td>Silver</td>\n",
       "      <td>10.0</td>\n",
       "      <td>1/04/2023</td>\n",
       "      <td>Wed</td>\n",
       "      <td>18:20:31</td>\n",
       "      <td>https://www.kaggle.com/datasets/ahsan81/hotel-...</td>\n",
       "      <td>https://storage.googleapis.com/kaggle-datasets...</td>\n",
       "    </tr>\n",
       "    <tr>\n",
       "      <th>1</th>\n",
       "      <td>MusicCaps</td>\n",
       "      <td>Google Research</td>\n",
       "      <td>NaN</td>\n",
       "      <td>1</td>\n",
       "      <td>812 kB</td>\n",
       "      <td>CSV</td>\n",
       "      <td>188</td>\n",
       "      <td>Silver</td>\n",
       "      <td>9.4</td>\n",
       "      <td>1/25/2023</td>\n",
       "      <td>Wed</td>\n",
       "      <td>14:55:48</td>\n",
       "      <td>https://www.kaggle.com/datasets/googleai/music...</td>\n",
       "      <td>https://storage.googleapis.com/kaggle-datasets...</td>\n",
       "    </tr>\n",
       "    <tr>\n",
       "      <th>2</th>\n",
       "      <td>Most Subscribed 1000 Youtube Channels</td>\n",
       "      <td>Mrityunjay Pathak</td>\n",
       "      <td>https://www.kaggle.com/themrityunjaypathak</td>\n",
       "      <td>1</td>\n",
       "      <td>29 kB</td>\n",
       "      <td>CSV</td>\n",
       "      <td>76</td>\n",
       "      <td>Bronze</td>\n",
       "      <td>10.0</td>\n",
       "      <td>1/21/2023</td>\n",
       "      <td>Sat</td>\n",
       "      <td>20:12:05</td>\n",
       "      <td>https://www.kaggle.com/datasets/themrityunjayp...</td>\n",
       "      <td>https://storage.googleapis.com/kaggle-datasets...</td>\n",
       "    </tr>\n",
       "    <tr>\n",
       "      <th>3</th>\n",
       "      <td>Olympics 124 years Dataset(till 2020)</td>\n",
       "      <td>Nitish Sharma01</td>\n",
       "      <td>https://www.kaggle.com/nitishsharma01</td>\n",
       "      <td>3</td>\n",
       "      <td>5 MB</td>\n",
       "      <td>CSV</td>\n",
       "      <td>30</td>\n",
       "      <td>Bronze</td>\n",
       "      <td>10.0</td>\n",
       "      <td>2/01/2023</td>\n",
       "      <td>Wed</td>\n",
       "      <td>14:30:49</td>\n",
       "      <td>https://www.kaggle.com/datasets/nitishsharma01...</td>\n",
       "      <td>https://storage.googleapis.com/kaggle-datasets...</td>\n",
       "    </tr>\n",
       "    <tr>\n",
       "      <th>4</th>\n",
       "      <td>Medical Student Mental Health</td>\n",
       "      <td>The Devastator</td>\n",
       "      <td>https://www.kaggle.com/thedevastator</td>\n",
       "      <td>2</td>\n",
       "      <td>19 kB</td>\n",
       "      <td>CSV</td>\n",
       "      <td>37</td>\n",
       "      <td>Bronze</td>\n",
       "      <td>10.0</td>\n",
       "      <td>1/25/2023</td>\n",
       "      <td>Wed</td>\n",
       "      <td>06:30:14</td>\n",
       "      <td>https://www.kaggle.com/datasets/thedevastator/...</td>\n",
       "      <td>https://storage.googleapis.com/kaggle-datasets...</td>\n",
       "    </tr>\n",
       "  </tbody>\n",
       "</table>\n",
       "</div>"
      ],
      "text/plain": [
       "                            Dataset_name        Author_name  \\\n",
       "0             Hotel Reservations Dataset         Ahsan Raza   \n",
       "1                              MusicCaps    Google Research   \n",
       "2  Most Subscribed 1000 Youtube Channels  Mrityunjay Pathak   \n",
       "3  Olympics 124 years Dataset(till 2020)    Nitish Sharma01   \n",
       "4          Medical Student Mental Health     The Devastator   \n",
       "\n",
       "                                    Author_id No_of_files    size  \\\n",
       "0              https://www.kaggle.com/ahsan81           1  491 kB   \n",
       "1                                         NaN           1  812 kB   \n",
       "2  https://www.kaggle.com/themrityunjaypathak           1   29 kB   \n",
       "3       https://www.kaggle.com/nitishsharma01           3    5 MB   \n",
       "4        https://www.kaggle.com/thedevastator           2   19 kB   \n",
       "\n",
       "  Type_of_file Upvotes  Medals Usability       Date  Day      Time  \\\n",
       "0          CSV     315  Silver      10.0  1/04/2023  Wed  18:20:31   \n",
       "1          CSV     188  Silver       9.4  1/25/2023  Wed  14:55:48   \n",
       "2          CSV      76  Bronze      10.0  1/21/2023  Sat  20:12:05   \n",
       "3          CSV      30  Bronze      10.0  2/01/2023  Wed  14:30:49   \n",
       "4          CSV      37  Bronze      10.0  1/25/2023  Wed  06:30:14   \n",
       "\n",
       "                                        Dataset_link  \\\n",
       "0  https://www.kaggle.com/datasets/ahsan81/hotel-...   \n",
       "1  https://www.kaggle.com/datasets/googleai/music...   \n",
       "2  https://www.kaggle.com/datasets/themrityunjayp...   \n",
       "3  https://www.kaggle.com/datasets/nitishsharma01...   \n",
       "4  https://www.kaggle.com/datasets/thedevastator/...   \n",
       "\n",
       "                                          Image_link  \n",
       "0  https://storage.googleapis.com/kaggle-datasets...  \n",
       "1  https://storage.googleapis.com/kaggle-datasets...  \n",
       "2  https://storage.googleapis.com/kaggle-datasets...  \n",
       "3  https://storage.googleapis.com/kaggle-datasets...  \n",
       "4  https://storage.googleapis.com/kaggle-datasets...  "
      ]
     },
     "execution_count": 16,
     "metadata": {},
     "output_type": "execute_result"
    }
   ],
   "source": [
    "df = pd.DataFrame(values, columns=['Dataset_name', 'Author_name','Author_id', 'No_of_files','size', 'Type_of_file', 'Upvotes', 'Medals', 'Usability', 'Date', 'Day', 'Time', 'Dataset_link', 'Image_link'])\n",
    "df.head()"
   ]
  },
  {
   "cell_type": "markdown",
   "id": "8a00c392",
   "metadata": {},
   "source": [
    "### 4. Exporting Raw Dataset"
   ]
  },
  {
   "cell_type": "code",
   "execution_count": 17,
   "id": "727c7397",
   "metadata": {},
   "outputs": [],
   "source": [
    "df.to_csv('kaggle-raw.csv')"
   ]
  },
  {
   "cell_type": "code",
   "execution_count": 18,
   "id": "ac760d52",
   "metadata": {},
   "outputs": [
    {
     "name": "stdout",
     "output_type": "stream",
     "text": [
      "<class 'pandas.core.frame.DataFrame'>\n",
      "RangeIndex: 9971 entries, 0 to 9970\n",
      "Data columns (total 14 columns):\n",
      " #   Column        Non-Null Count  Dtype \n",
      "---  ------        --------------  ----- \n",
      " 0   Dataset_name  9971 non-null   object\n",
      " 1   Author_name   9971 non-null   object\n",
      " 2   Author_id     9619 non-null   object\n",
      " 3   No_of_files   9971 non-null   object\n",
      " 4   size          9478 non-null   object\n",
      " 5   Type_of_file  9971 non-null   object\n",
      " 6   Upvotes       9971 non-null   object\n",
      " 7   Medals        6180 non-null   object\n",
      " 8   Usability     9970 non-null   object\n",
      " 9   Date          9971 non-null   object\n",
      " 10  Day           9971 non-null   object\n",
      " 11  Time          9971 non-null   object\n",
      " 12  Dataset_link  9971 non-null   object\n",
      " 13  Image_link    9971 non-null   object\n",
      "dtypes: object(14)\n",
      "memory usage: 1.1+ MB\n"
     ]
    }
   ],
   "source": [
    "df.info()"
   ]
  },
  {
   "cell_type": "markdown",
   "id": "9c7e9cbf",
   "metadata": {},
   "source": [
    "### 4. Checking Null values and removing unnecessary columns"
   ]
  },
  {
   "cell_type": "code",
   "execution_count": 19,
   "id": "6270dd49",
   "metadata": {},
   "outputs": [
    {
     "data": {
      "text/plain": [
       "Dataset_name       0\n",
       "Author_name        0\n",
       "Author_id        352\n",
       "No_of_files        0\n",
       "size             493\n",
       "Type_of_file       0\n",
       "Upvotes            0\n",
       "Medals          3791\n",
       "Usability          1\n",
       "Date               0\n",
       "Day                0\n",
       "Time               0\n",
       "Dataset_link       0\n",
       "Image_link         0\n",
       "dtype: int64"
      ]
     },
     "execution_count": 19,
     "metadata": {},
     "output_type": "execute_result"
    }
   ],
   "source": [
    "df.isnull().sum()"
   ]
  },
  {
   "cell_type": "code",
   "execution_count": 20,
   "id": "b1ddab19",
   "metadata": {},
   "outputs": [
    {
     "data": {
      "text/plain": [
       "Dataset_name      0\n",
       "Author_name       0\n",
       "Author_id       352\n",
       "No_of_files       0\n",
       "size            493\n",
       "Type_of_file      0\n",
       "Upvotes           0\n",
       "Medals            0\n",
       "Usability         1\n",
       "Date              0\n",
       "Day               0\n",
       "Time              0\n",
       "Dataset_link      0\n",
       "dtype: int64"
      ]
     },
     "execution_count": 20,
     "metadata": {},
     "output_type": "execute_result"
    }
   ],
   "source": [
    "df['Medals'] = df['Medals'].fillna('No Medal')\n",
    "del df['Image_link']\n",
    "df.isnull().sum()"
   ]
  },
  {
   "cell_type": "code",
   "execution_count": 21,
   "id": "5ed54ce3",
   "metadata": {},
   "outputs": [
    {
     "data": {
      "text/plain": [
       "Dataset_name    0\n",
       "Author_name     0\n",
       "Author_id       0\n",
       "No_of_files     0\n",
       "size            0\n",
       "Type_of_file    0\n",
       "Upvotes         0\n",
       "Medals          0\n",
       "Usability       0\n",
       "Date            0\n",
       "Day             0\n",
       "Time            0\n",
       "Dataset_link    0\n",
       "dtype: int64"
      ]
     },
     "execution_count": 21,
     "metadata": {},
     "output_type": "execute_result"
    }
   ],
   "source": [
    "df = df.dropna()\n",
    "df.isna().sum()"
   ]
  },
  {
   "cell_type": "markdown",
   "id": "ad67cf24",
   "metadata": {},
   "source": [
    "### 5. Converting it into CSV"
   ]
  },
  {
   "cell_type": "code",
   "execution_count": 23,
   "id": "2a1726c6",
   "metadata": {},
   "outputs": [
    {
     "data": {
      "text/plain": [
       "9158"
      ]
     },
     "execution_count": 23,
     "metadata": {},
     "output_type": "execute_result"
    }
   ],
   "source": [
    "len(df)"
   ]
  },
  {
   "cell_type": "code",
   "execution_count": 24,
   "id": "c51d25be",
   "metadata": {},
   "outputs": [],
   "source": [
    "df.to_csv('kaggle-preprocessed.csv', index = False)"
   ]
  }
 ],
 "metadata": {
  "kernelspec": {
   "display_name": "Python 3 (ipykernel)",
   "language": "python",
   "name": "python3"
  },
  "language_info": {
   "codemirror_mode": {
    "name": "ipython",
    "version": 3
   },
   "file_extension": ".py",
   "mimetype": "text/x-python",
   "name": "python",
   "nbconvert_exporter": "python",
   "pygments_lexer": "ipython3",
   "version": "3.10.2"
  }
 },
 "nbformat": 4,
 "nbformat_minor": 5
}
